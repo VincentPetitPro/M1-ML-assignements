{
  "nbformat": 4,
  "nbformat_minor": 0,
  "metadata": {
    "colab": {
      "name": "ML - Hands-on 2 - Pima Indians Diabetes.ipynb",
      "provenance": [],
      "collapsed_sections": [],
      "toc_visible": true,
      "include_colab_link": true
    },
    "kernelspec": {
      "name": "python3",
      "display_name": "Python 3"
    }
  },
  "cells": [
    {
      "cell_type": "markdown",
      "metadata": {
        "id": "view-in-github",
        "colab_type": "text"
      },
      "source": [
        "<a href=\"https://colab.research.google.com/github/VincentPetitPro/M1-ML-assignements/blob/master/ML_Hands_on_2_Pima_Indians_Diabetes.ipynb\" target=\"_parent\"><img src=\"https://colab.research.google.com/assets/colab-badge.svg\" alt=\"Open In Colab\"/></a>"
      ]
    },
    {
      "cell_type": "markdown",
      "metadata": {
        "id": "pMlmXWuy9z-a"
      },
      "source": [
        "#Hands-on 2 - Diabetes diagnosis\n",
        "\n",
        "The Pima Indian Diabetes dataset is originally from the National Institute of Diabetes and Digestive and Kidney Diseases. The objective is to predict based on diagnostic measurements whether a patient has diabetes.\n",
        "\n",
        "Several constraints were placed on the selection of these instances from a larger database. In particular, all patients here are females at least 21 years old of Pima Indian heritage.\n",
        "\n",
        "See https://www.kaggle.com/kumargh/pimaindiansdiabetescsv , https://data.world/data-society/pima-indians-diabetes-database or https://www.kaggle.com/uciml/pima-indians-diabetes-database for a description of the data."
      ]
    },
    {
      "cell_type": "code",
      "metadata": {
        "id": "2-mXq-OB5-Ns",
        "colab": {
          "base_uri": "https://localhost:8080/"
        },
        "outputId": "0d30cbc0-55b6-40d8-b3e3-ebb180e96a1a"
      },
      "source": [
        "!wget https://raw.githubusercontent.com/jbrownlee/Datasets/master/pima-indians-diabetes.data.csv"
      ],
      "execution_count": 1,
      "outputs": [
        {
          "output_type": "stream",
          "name": "stdout",
          "text": [
            "--2022-04-19 12:40:28--  https://raw.githubusercontent.com/jbrownlee/Datasets/master/pima-indians-diabetes.data.csv\n",
            "Resolving raw.githubusercontent.com (raw.githubusercontent.com)... 185.199.108.133, 185.199.109.133, 185.199.110.133, ...\n",
            "Connecting to raw.githubusercontent.com (raw.githubusercontent.com)|185.199.108.133|:443... connected.\n",
            "HTTP request sent, awaiting response... 200 OK\n",
            "Length: 23278 (23K) [text/plain]\n",
            "Saving to: ‘pima-indians-diabetes.data.csv’\n",
            "\n",
            "\r          pima-indi   0%[                    ]       0  --.-KB/s               \rpima-indians-diabet 100%[===================>]  22.73K  --.-KB/s    in 0s      \n",
            "\n",
            "2022-04-19 12:40:28 (50.2 MB/s) - ‘pima-indians-diabetes.data.csv’ saved [23278/23278]\n",
            "\n"
          ]
        }
      ]
    },
    {
      "cell_type": "markdown",
      "metadata": {
        "id": "2dzuH3aq85m3"
      },
      "source": [
        "# Question 1\n",
        "Load the file pima-indians-diabetes.data.csv into a Pandas dataframe, and name its columns ['pregnant', 'glucose', 'bp', 'skin', 'insulin', 'bmi', 'pedigree', 'age', 'label']\n",
        "\n",
        "This should return a Dataframe of shape 768 rows x 9 columns"
      ]
    },
    {
      "cell_type": "code",
      "metadata": {
        "id": "5Lz6lqRj71hj"
      },
      "source": [
        "import pandas as pd\n",
        "def q1():\n",
        "  col_names = ['pregnant', 'glucose', 'bp', 'skin', 'insulin', 'bmi', 'pedigree', 'age', 'label']\n",
        "  pima = pd.read_csv(r\"pima-indians-diabetes.data.csv\", header = None, names = col_names)\n",
        "  return pima\n",
        "\n",
        "pima = q1()\n",
        "assert pima.shape == (768, 9)\n",
        "assert type(pima) == pd.DataFrame\n"
      ],
      "execution_count": 2,
      "outputs": []
    },
    {
      "cell_type": "markdown",
      "metadata": {
        "id": "v5z8FlAL9H0P"
      },
      "source": [
        "#Question 2\n",
        "\n",
        "Split the DataFrame into `X` (the data) and `y` (the labels). Ignore the column 'skin', ie. don't put it into X.\n",
        "\n",
        "* `X`* must be a pandas DataFrame of shape* `(768, 7)`\n",
        "* `y`* must be a pandas Series of shape* `(768,)`."
      ]
    },
    {
      "cell_type": "code",
      "metadata": {
        "id": "vBpv7RRw8NAS",
        "colab": {
          "base_uri": "https://localhost:8080/"
        },
        "outputId": "ce085325-6de8-48f0-f871-5de7a33d702a"
      },
      "source": [
        "def q2():\n",
        "  cleaned_df = pima.loc[:]\n",
        "  cleaned_df = cleaned_df.drop('skin', 1)\n",
        "  cleaned_df = cleaned_df.drop('label', 1)\n",
        "  X = cleaned_df.loc[:]\n",
        "  y = pima.loc[:, 'label']\n",
        "  return (X,y), cleaned_df\n",
        "\n",
        "(X,y), cleaned_df = q2()\n",
        "assert type(X) == pd.DataFrame\n",
        "assert X.shape == (768, 7)\n",
        "assert type(y) == pd.Series\n",
        "assert y.shape == (768,)"
      ],
      "execution_count": 3,
      "outputs": [
        {
          "output_type": "stream",
          "name": "stderr",
          "text": [
            "/usr/local/lib/python3.7/dist-packages/ipykernel_launcher.py:3: FutureWarning: In a future version of pandas all arguments of DataFrame.drop except for the argument 'labels' will be keyword-only\n",
            "  This is separate from the ipykernel package so we can avoid doing imports until\n",
            "/usr/local/lib/python3.7/dist-packages/ipykernel_launcher.py:4: FutureWarning: In a future version of pandas all arguments of DataFrame.drop except for the argument 'labels' will be keyword-only\n",
            "  after removing the cwd from sys.path.\n"
          ]
        }
      ]
    },
    {
      "cell_type": "markdown",
      "metadata": {
        "id": "i1oO2KdV98Vg"
      },
      "source": [
        "# Question 3\n",
        "Using `train_test_split`, split `X` and `y` into training and test sets `(X_train, X_test, y_train, and y_test)`, where the size of the test set is 30% the size of the total dataset.\n",
        "*This function should return a tuple of length 4:* `(X_train, X_test, y_train, y_test)`*, where* \n",
        "* `X_train` *has shape* `(537, 7)`\n",
        "* `X_test` *has shape* `(231, 7)`\n",
        "* `y_train` *has shape* `(537,)`\n",
        "* `y_test` *has shape* `(231,)`"
      ]
    },
    {
      "cell_type": "code",
      "metadata": {
        "id": "BUtbx5z48QbJ"
      },
      "source": [
        "\n",
        "from sklearn.model_selection import train_test_split\n",
        "def q3():\n",
        "  return train_test_split(X,y,train_size=537,test_size=231,random_state=0)\n",
        "\n",
        "X_train, X_test, y_train, y_test = q3()\n",
        "assert X_train.shape == (537, 7)\n",
        "assert X_test.shape == (231, 7)\n",
        "assert y_train.shape == (537,)\n",
        "assert y_test.shape == (231,)"
      ],
      "execution_count": 4,
      "outputs": []
    },
    {
      "cell_type": "markdown",
      "metadata": {
        "id": "wl9rAak--_K5"
      },
      "source": [
        "# Question 4\n",
        "Train a decision tree classifier on the training set"
      ]
    },
    {
      "cell_type": "code",
      "metadata": {
        "id": "tEkHFCR28Vpp"
      },
      "source": [
        "\n",
        "from sklearn.tree import DecisionTreeClassifier\n",
        "def q4(mdepth):\n",
        "  model = DecisionTreeClassifier(max_depth=mdepth)\n",
        "  model.fit(X_train, y_train)\n",
        "  return model\n",
        "\n",
        "model = q4(None)\n",
        "assert type(model) == DecisionTreeClassifier"
      ],
      "execution_count": 5,
      "outputs": []
    },
    {
      "cell_type": "markdown",
      "metadata": {
        "id": "duRM-Tm4_IJg"
      },
      "source": [
        "# Question 5\n",
        "Using your classifier, run predictions on the test set"
      ]
    },
    {
      "cell_type": "code",
      "metadata": {
        "id": "bQnSDjt_8gDB"
      },
      "source": [
        "def q5():\n",
        "  return model.predict(X_test)\n",
        "\n",
        "y_predict = q5()"
      ],
      "execution_count": 6,
      "outputs": []
    },
    {
      "cell_type": "markdown",
      "metadata": {
        "id": "LX68n8r7_VY2"
      },
      "source": [
        "# Question 6\n",
        "Compute the accuracy of the predictions on the test set"
      ]
    },
    {
      "cell_type": "code",
      "metadata": {
        "id": "qaD4MGtE8mOB",
        "colab": {
          "base_uri": "https://localhost:8080/"
        },
        "outputId": "54b82b90-f878-474c-94b8-fb5d62a58fb3"
      },
      "source": [
        "from sklearn.metrics import accuracy_score\n",
        "def q6(test_data):\n",
        "  return accuracy_score(test_data, y_predict)\n",
        "model_accuracy_score = q6(y_test)\n",
        "print(model_accuracy_score)"
      ],
      "execution_count": 7,
      "outputs": [
        {
          "output_type": "stream",
          "name": "stdout",
          "text": [
            "0.7532467532467533\n"
          ]
        }
      ]
    },
    {
      "cell_type": "markdown",
      "metadata": {
        "id": "zdf1cjCh_1t5"
      },
      "source": [
        "# Question 7\n",
        "Compute the accuracy of the predictions on the training set\n",
        "\n",
        "Are we:\n",
        "- overfitting ?\n",
        "- underfitting ?\n",
        "- none of them ?"
      ]
    },
    {
      "cell_type": "markdown",
      "source": [
        "It is overfitting."
      ],
      "metadata": {
        "id": "WGmqSwQ_MT1F"
      }
    },
    {
      "cell_type": "code",
      "metadata": {
        "id": "PB4dAFBT_9W_",
        "colab": {
          "base_uri": "https://localhost:8080/"
        },
        "outputId": "ac3e830e-52a9-4d2b-c755-95ccf20cd333"
      },
      "source": [
        "print(accuracy_score(y_train, model.predict(X_train)))"
      ],
      "execution_count": 8,
      "outputs": [
        {
          "output_type": "stream",
          "name": "stdout",
          "text": [
            "1.0\n"
          ]
        }
      ]
    },
    {
      "cell_type": "markdown",
      "metadata": {
        "id": "nmcb-wHeAKFx"
      },
      "source": [
        "# Question 8\n",
        "Plot the decision tree classifier"
      ]
    },
    {
      "cell_type": "code",
      "metadata": {
        "id": "_CvsjVlD9X2G",
        "colab": {
          "base_uri": "https://localhost:8080/"
        },
        "outputId": "ae8fd1a5-ad8d-4997-b843-eff5f079ab35"
      },
      "source": [
        "!wget http://www.eyrignoux.com.fr/coursIA/machineLearning/adspy_shared_utilities.py -O adspy_shared_utilities.py"
      ],
      "execution_count": 9,
      "outputs": [
        {
          "output_type": "stream",
          "name": "stdout",
          "text": [
            "--2022-04-19 12:40:55--  http://www.eyrignoux.com.fr/coursIA/machineLearning/adspy_shared_utilities.py\n",
            "Resolving www.eyrignoux.com.fr (www.eyrignoux.com.fr)... 62.210.16.62\n",
            "Connecting to www.eyrignoux.com.fr (www.eyrignoux.com.fr)|62.210.16.62|:80... connected.\n",
            "HTTP request sent, awaiting response... 301 Moved Permanently\n",
            "Location: https://www.eyrignoux.com.fr/coursIA/machineLearning/adspy_shared_utilities.py [following]\n",
            "--2022-04-19 12:40:55--  https://www.eyrignoux.com.fr/coursIA/machineLearning/adspy_shared_utilities.py\n",
            "Connecting to www.eyrignoux.com.fr (www.eyrignoux.com.fr)|62.210.16.62|:443... connected.\n",
            "HTTP request sent, awaiting response... 200 OK\n",
            "Length: 9981 (9.7K) [text/x-python]\n",
            "Saving to: ‘adspy_shared_utilities.py’\n",
            "\n",
            "adspy_shared_utilit 100%[===================>]   9.75K  --.-KB/s    in 0s      \n",
            "\n",
            "2022-04-19 12:40:56 (135 MB/s) - ‘adspy_shared_utilities.py’ saved [9981/9981]\n",
            "\n"
          ]
        }
      ]
    },
    {
      "cell_type": "code",
      "metadata": {
        "id": "cPPQrbFX9RpM"
      },
      "source": [
        "from adspy_shared_utilities import plot_decision_tree\n",
        "def q8():\n",
        "  return plot_decision_tree(model, cleaned_df.columns, ['False', 'True'])\n",
        "q8()"
      ],
      "execution_count": null,
      "outputs": []
    },
    {
      "cell_type": "markdown",
      "metadata": {
        "id": "GTGKtleyAX04"
      },
      "source": [
        "# Question 9\n",
        "Compute the accuracy on the test and on the training set for several values of max_depth\n"
      ]
    },
    {
      "cell_type": "code",
      "metadata": {
        "id": "YfoG2xUW_8nL",
        "colab": {
          "base_uri": "https://localhost:8080/"
        },
        "outputId": "e1c75dae-893c-4df5-de4b-ac89623d4d62"
      },
      "source": [
        "# Max depth of 1\n",
        "model = q4(1)\n",
        "y_predict = q5()\n",
        "model_accuracy_score = q6(y_test)\n",
        "print('Max depth of 1:',model_accuracy_score)\n",
        "\n",
        "# Max depth of 3\n",
        "model = q4(3)\n",
        "y_predict = q5()\n",
        "model_accuracy_score = q6(y_test)\n",
        "print('Max depth of 3:',model_accuracy_score)\n",
        "\n",
        "# Max depth of 5\n",
        "model = q4(5)\n",
        "y_predict = q5()\n",
        "model_accuracy_score = q6(y_test)\n",
        "print('Max depth of 5:',model_accuracy_score)\n",
        "\n",
        "# Max depth of 7\n",
        "model = q4(7)\n",
        "y_predict = q5()\n",
        "model_accuracy_score = q6(y_test)\n",
        "print('Max depth of 7:',model_accuracy_score)\n",
        "\n",
        "# Max depth of 10\n",
        "model = q4(10)\n",
        "y_predict = q5()\n",
        "model_accuracy_score = q6(y_test)\n",
        "print('Max depth of 10:',model_accuracy_score)\n",
        "\n",
        "# Fully expanded tree\n",
        "model = q4(None)\n",
        "y_predict = q5()\n",
        "model_accuracy_score = q6(y_test)\n",
        "print('Fully expanded tree:', model_accuracy_score)\n",
        "print('Model max depth', model.tree_.max_depth)"
      ],
      "execution_count": 11,
      "outputs": [
        {
          "output_type": "stream",
          "name": "stdout",
          "text": [
            "Max depth of 1: 0.7316017316017316\n",
            "Max depth of 3: 0.7272727272727273\n",
            "Max depth of 5: 0.7619047619047619\n",
            "Max depth of 7: 0.7316017316017316\n",
            "Max depth of 10: 0.7445887445887446\n",
            "Fully expanded tree: 0.7662337662337663\n",
            "Model max depth 15\n"
          ]
        }
      ]
    },
    {
      "cell_type": "markdown",
      "metadata": {
        "id": "BGpi-r78BdeT"
      },
      "source": [
        "#Question 10\n",
        "Draw a scatter plot showing the accuracy on the training set, and the accuracy on the test set, by max-depth value.\n",
        "\n",
        "Deduce from the graph the best value for max_depth."
      ]
    },
    {
      "cell_type": "code",
      "metadata": {
        "id": "tqk6g64V_11v",
        "colab": {
          "base_uri": "https://localhost:8080/",
          "height": 265
        },
        "outputId": "81034a03-35fe-476b-dcf5-d7f13961e472"
      },
      "source": [
        "import matplotlib.pyplot as plt\n",
        "\n",
        "# in the code below:\n",
        "# - depths is the list of the values of max_depth that you tried. For example [1, 2, 3, ..., 15]\n",
        "# - accuracies_test is the list of the corresponding accuracies on the test set\n",
        "# - accuracies_train is the list of the corresponding accuracies on the training set\n",
        "\n",
        "depths = []\n",
        "accuracy_test = 0.0\n",
        "accuracies_test = []\n",
        "accuracy_train = 0.0\n",
        "accuracies_train = []\n",
        "\n",
        "for i in range(1, 16):\n",
        "  depths.append(i)\n",
        "  model = q4(i)\n",
        "  y_predict = q5()\n",
        "  accuracy_test = q6(y_test)\n",
        "  accuracies_test.append(accuracy_test)\n",
        "  accuracy_train = accuracy_score(y_train, model.predict(X_train))\n",
        "  accuracies_train.append(accuracy_train)\n",
        "  \n",
        "\n",
        "\n",
        "plt.figure()\n",
        "plt.scatter(depths, accuracies_test, label='test data')\n",
        "plt.scatter(depths, accuracies_train, label='train data')\n",
        "plt.legend(loc=4)\n",
        "plt.show()"
      ],
      "execution_count": 12,
      "outputs": [
        {
          "output_type": "display_data",
          "data": {
            "text/plain": [
              "<Figure size 432x288 with 1 Axes>"
            ],
            "image/png": "[encoded data removed]"
          },
          "metadata": {
            "needs_background": "light"
          }
        }
      ]
    },
    {
      "cell_type": "markdown",
      "metadata": {
        "id": "M0cvUDoHA2oB"
      },
      "source": [
        "# Question 11\n",
        "As you can see in the [documentation](https://scikit-learn.org/stable/modules/generated/sklearn.tree.DecisionTreeClassifier.html), the class DecisionTreeClassifier has many other parameters which might improve the results, such as min_samples_leaf.\n",
        "\n",
        "Try to find the best value for min_samples_leaf\n",
        "\n",
        "Again, you must avoid to overfit and underfit your dataset.\n",
        "\n",
        "Again, a graph showing the evolution of the accuracy by min_samples_leaf should help."
      ]
    },
    {
      "cell_type": "code",
      "metadata": {
        "id": "b9N6ikUYC-bN"
      },
      "source": [
        "mins_samples_leaf = []\n",
        "accuracies_test = []\n",
        "accuracies_train = []\n",
        "for min_samples in range(1, 20):\n",
        "  mins_samples_leaf.append(min_samples)\n",
        "  model = DecisionTreeClassifier(max_depth=10, min_samples_leaf=min_samples)\n",
        "  model.fit(X_train, y_train)\n",
        "  y_predict = q5()\n",
        "  accuracy_test = q6(y_test)\n",
        "  accuracies_test.append(accuracy_test)\n",
        "  accuracy_train = accuracy_score(y_train, model.predict(X_train))\n",
        "  accuracies_train.append(accuracy_train)"
      ],
      "execution_count": 16,
      "outputs": []
    },
    {
      "cell_type": "code",
      "metadata": {
        "id": "avMa45UgDaQV",
        "colab": {
          "base_uri": "https://localhost:8080/",
          "height": 265
        },
        "outputId": "2e366c8b-b1e4-4b4c-ff9e-ea119b12f79e"
      },
      "source": [
        "plt.figure()\n",
        "plt.scatter(mins_samples_leaf, accuracies_test, label='test data')\n",
        "plt.scatter(mins_samples_leaf, accuracies_train, label='train data')\n",
        "plt.legend(loc=4)\n",
        "plt.show()"
      ],
      "execution_count": 17,
      "outputs": [
        {
          "output_type": "display_data",
          "data": {
            "text/plain": [
              "<Figure size 432x288 with 1 Axes>"
            ],
            "image/png": "[encoded data removed]"
          },
          "metadata": {
            "needs_background": "light"
          }
        }
      ]
    },
    {
      "cell_type": "markdown",
      "metadata": {
        "id": "QQ-HcDANCzty"
      },
      "source": [
        "#Question 12\n",
        "Compute the importance of the features for the best value of min_samples_leaf\n",
        "\n",
        "What are the most important features ?\n",
        "\n",
        "What can we do with the least important ones ?"
      ]
    },
    {
      "cell_type": "code",
      "metadata": {
        "id": "NJ0MYG-kC9m5",
        "colab": {
          "base_uri": "https://localhost:8080/"
        },
        "outputId": "9a9a55ff-9086-4b5c-c717-c2ecfcd812d5"
      },
      "source": [
        "clf2 = DecisionTreeClassifier(min_samples_leaf = 5).fit(X_train, y_train)\n",
        "y_pred = clf2.predict(X_test)\n",
        "accuracy_score(y_test,y_pred)"
      ],
      "execution_count": 22,
      "outputs": [
        {
          "output_type": "execute_result",
          "data": {
            "text/plain": [
              "0.7619047619047619"
            ]
          },
          "metadata": {},
          "execution_count": 22
        }
      ]
    },
    {
      "cell_type": "code",
      "metadata": {
        "id": "X1pV4QuVDOUs",
        "colab": {
          "base_uri": "https://localhost:8080/",
          "height": 279
        },
        "outputId": "d4ba5e69-e8b1-4914-e084-891878e14a39"
      },
      "source": [
        "from adspy_shared_utilities import plot_feature_importances\n",
        "plot_feature_importances(clf2, clf2.feature_names_in_)"
      ],
      "execution_count": 23,
      "outputs": [
        {
          "output_type": "display_data",
          "data": {
            "text/plain": [
              "<Figure size 432x288 with 1 Axes>"
            ],
            "image/png": "[encoded data removed]"
          },
          "metadata": {
            "needs_background": "light"
          }
        }
      ]
    },
    {
      "cell_type": "markdown",
      "source": [
        "The most important features are the glucose and age, closely follow by the BMI. We can remove the non-important features from the dataset as they do not impact the results that much."
      ],
      "metadata": {
        "id": "MlsOBhvO2EzL"
      }
    },
    {
      "cell_type": "markdown",
      "metadata": {
        "id": "pN9DRZR8Cffg"
      },
      "source": [
        "## Question 13\n",
        "Decision trees are prone to overfitting. As seen in class, a better alternative is a [Random Forest](https://scikit-learn.org/stable/modules/generated/sklearn.ensemble.RandomForestClassifier.html)\n",
        "\n",
        "Same questions as above: train random forests with different parameter values, and try to get the best possible accuracy on the test set."
      ]
    },
    {
      "cell_type": "code",
      "metadata": {
        "id": "pWpdLY2u5Hj2",
        "outputId": "e50f4497-493b-451d-cd82-f7844034d8b0",
        "colab": {
          "base_uri": "https://localhost:8080/"
        }
      },
      "source": [
        "from sklearn.ensemble import RandomForestClassifier\n",
        "def q13(m_depth):\n",
        "  forest_model = RandomForestClassifier(max_depth=m_depth)\n",
        "  forest_model.fit(X_train, y_train)\n",
        "  return forest_model\n",
        "\n",
        "forest_model = q13(None)\n",
        "assert type(forest_model) == RandomForestClassifier\n",
        "\n",
        "forrest_y_predict = forest_model.predict(X_test)\n",
        "forrest_model_accuracy = accuracy_score(y_test, y_predict)\n",
        "print('Base forest model accuracy :',forrest_model_accuracy)"
      ],
      "execution_count": 33,
      "outputs": [
        {
          "output_type": "stream",
          "name": "stdout",
          "text": [
            "Base forest model accuracy : 0.7748917748917749\n"
          ]
        }
      ]
    },
    {
      "cell_type": "code",
      "metadata": {
        "id": "MVgJmjms5hwe"
      },
      "source": [
        "mins_samples_leaf = []\n",
        "accuracies_test = []\n",
        "accuracies_train = []\n",
        "for min_samples in range(1, 20):\n",
        "  mins_samples_leaf.append(min_samples)\n",
        "  forest_model = RandomForestClassifier(min_samples_leaf=min_samples)\n",
        "  forest_model.fit(X_train, y_train)\n",
        "  y_predict = forest_model.predict(X_test)\n",
        "  accuracy_test = accuracy_score(y_test, y_predict)\n",
        "  accuracies_test.append(accuracy_test)\n",
        "  accuracy_train = accuracy_score(y_train, forest_model.predict(X_train))\n",
        "  accuracies_train.append(accuracy_train)"
      ],
      "execution_count": 38,
      "outputs": []
    },
    {
      "cell_type": "code",
      "metadata": {
        "id": "1yEI48Rr6tZe",
        "outputId": "07ddde17-974f-433e-e3ba-981024be5377",
        "colab": {
          "base_uri": "https://localhost:8080/",
          "height": 265
        }
      },
      "source": [
        "plt.figure()\n",
        "plt.scatter(mins_samples_leaf, accuracies_test, label='test data')\n",
        "plt.scatter(mins_samples_leaf, accuracies_train, label='train data')\n",
        "plt.legend(loc=4)\n",
        "plt.show()"
      ],
      "execution_count": 40,
      "outputs": [
        {
          "output_type": "display_data",
          "data": {
            "text/plain": [
              "<Figure size 432x288 with 1 Axes>"
            ],
            "image/png": "[encoded data removed]"
          },
          "metadata": {
            "needs_background": "light"
          }
        }
      ]
    }
  ]
}