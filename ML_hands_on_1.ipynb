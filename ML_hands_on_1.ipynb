{
  "cells": [
    {
      "cell_type": "markdown",
      "metadata": {
        "id": "7MKTD7idIAD3"
      },
      "source": [
        "# Hands-on 1 - Introduction to Machine Learning"
      ]
    },
    {
      "cell_type": "markdown",
      "metadata": {
        "id": "qeu9-B_EIAD4"
      },
      "source": [
        "For this assignment, you will be using the Breast Cancer Wisconsin (Diagnostic) Database to create a classifier that can help diagnose patients. First, read through the description of the dataset (below)."
      ]
    },
    {
      "cell_type": "code",
      "execution_count": 1,
      "metadata": {
        "id": "iv1-_EZ7IAD4"
      },
      "outputs": [
        {
          "ename": "ModuleNotFoundError",
          "evalue": "No module named 'numpy'",
          "output_type": "error",
          "traceback": [
            "\u001b[1;31m---------------------------------------------------------------------------\u001b[0m",
            "\u001b[1;31mModuleNotFoundError\u001b[0m                       Traceback (most recent call last)",
            "\u001b[1;32m~\\AppData\\Local\\Temp/ipykernel_20600/3382436559.py\u001b[0m in \u001b[0;36m<module>\u001b[1;34m\u001b[0m\n\u001b[1;32m----> 1\u001b[1;33m \u001b[1;32mimport\u001b[0m \u001b[0mnumpy\u001b[0m \u001b[1;32mas\u001b[0m \u001b[0mnp\u001b[0m\u001b[1;33m\u001b[0m\u001b[1;33m\u001b[0m\u001b[0m\n\u001b[0m\u001b[0;32m      2\u001b[0m \u001b[1;32mimport\u001b[0m \u001b[0mpandas\u001b[0m \u001b[1;32mas\u001b[0m \u001b[0mpd\u001b[0m\u001b[1;33m\u001b[0m\u001b[1;33m\u001b[0m\u001b[0m\n\u001b[0;32m      3\u001b[0m \u001b[1;32mfrom\u001b[0m \u001b[0msklearn\u001b[0m\u001b[1;33m.\u001b[0m\u001b[0mdatasets\u001b[0m \u001b[1;32mimport\u001b[0m \u001b[0mload_breast_cancer\u001b[0m\u001b[1;33m\u001b[0m\u001b[1;33m\u001b[0m\u001b[0m\n\u001b[0;32m      4\u001b[0m \u001b[1;33m\u001b[0m\u001b[0m\n\u001b[0;32m      5\u001b[0m \u001b[0mcancer\u001b[0m \u001b[1;33m=\u001b[0m \u001b[0mload_breast_cancer\u001b[0m\u001b[1;33m(\u001b[0m\u001b[1;33m)\u001b[0m\u001b[1;33m\u001b[0m\u001b[1;33m\u001b[0m\u001b[0m\n",
            "\u001b[1;31mModuleNotFoundError\u001b[0m: No module named 'numpy'"
          ]
        }
      ],
      "source": [
        "import numpy as np\n",
        "import pandas as pd\n",
        "from sklearn.datasets import load_breast_cancer\n",
        "\n",
        "cancer = load_breast_cancer()\n"
      ]
    },
    {
      "cell_type": "code",
      "execution_count": null,
      "metadata": {
        "colab": {
          "base_uri": "https://localhost:8080/"
        },
        "id": "dPSxcOBMfWMi",
        "outputId": "9eadd45c-4a31-4f88-e54e-251d6235f968"
      },
      "outputs": [
        {
          "data": {
            "text/plain": [
              "sklearn.utils.Bunch"
            ]
          },
          "execution_count": 2,
          "metadata": {},
          "output_type": "execute_result"
        }
      ],
      "source": [
        "type(cancer)"
      ]
    },
    {
      "cell_type": "code",
      "execution_count": null,
      "metadata": {
        "colab": {
          "base_uri": "https://localhost:8080/"
        },
        "id": "VlYcgdRSoicw",
        "outputId": "ed745962-3acb-4b00-b471-18fa2ed004ef"
      },
      "outputs": [
        {
          "name": "stdout",
          "output_type": "stream",
          "text": [
            ".. _breast_cancer_dataset:\n",
            "\n",
            "Breast cancer wisconsin (diagnostic) dataset\n",
            "--------------------------------------------\n",
            "\n",
            "**Data Set Characteristics:**\n",
            "\n",
            "    :Number of Instances: 569\n",
            "\n",
            "    :Number of Attributes: 30 numeric, predictive attributes and the class\n",
            "\n",
            "    :Attribute Information:\n",
            "        - radius (mean of distances from center to points on the perimeter)\n",
            "        - texture (standard deviation of gray-scale values)\n",
            "        - perimeter\n",
            "        - area\n",
            "        - smoothness (local variation in radius lengths)\n",
            "        - compactness (perimeter^2 / area - 1.0)\n",
            "        - concavity (severity of concave portions of the contour)\n",
            "        - concave points (number of concave portions of the contour)\n",
            "        - symmetry\n",
            "        - fractal dimension (\"coastline approximation\" - 1)\n",
            "\n",
            "        The mean, standard error, and \"worst\" or largest (mean of the three\n",
            "        worst/largest values) of these features were computed for each image,\n",
            "        resulting in 30 features.  For instance, field 0 is Mean Radius, field\n",
            "        10 is Radius SE, field 20 is Worst Radius.\n",
            "\n",
            "        - class:\n",
            "                - WDBC-Malignant\n",
            "                - WDBC-Benign\n",
            "\n",
            "    :Summary Statistics:\n",
            "\n",
            "    ===================================== ====== ======\n",
            "                                           Min    Max\n",
            "    ===================================== ====== ======\n",
            "    radius (mean):                        6.981  28.11\n",
            "    texture (mean):                       9.71   39.28\n",
            "    perimeter (mean):                     43.79  188.5\n",
            "    area (mean):                          143.5  2501.0\n",
            "    smoothness (mean):                    0.053  0.163\n",
            "    compactness (mean):                   0.019  0.345\n",
            "    concavity (mean):                     0.0    0.427\n",
            "    concave points (mean):                0.0    0.201\n",
            "    symmetry (mean):                      0.106  0.304\n",
            "    fractal dimension (mean):             0.05   0.097\n",
            "    radius (standard error):              0.112  2.873\n",
            "    texture (standard error):             0.36   4.885\n",
            "    perimeter (standard error):           0.757  21.98\n",
            "    area (standard error):                6.802  542.2\n",
            "    smoothness (standard error):          0.002  0.031\n",
            "    compactness (standard error):         0.002  0.135\n",
            "    concavity (standard error):           0.0    0.396\n",
            "    concave points (standard error):      0.0    0.053\n",
            "    symmetry (standard error):            0.008  0.079\n",
            "    fractal dimension (standard error):   0.001  0.03\n",
            "    radius (worst):                       7.93   36.04\n",
            "    texture (worst):                      12.02  49.54\n",
            "    perimeter (worst):                    50.41  251.2\n",
            "    area (worst):                         185.2  4254.0\n",
            "    smoothness (worst):                   0.071  0.223\n",
            "    compactness (worst):                  0.027  1.058\n",
            "    concavity (worst):                    0.0    1.252\n",
            "    concave points (worst):               0.0    0.291\n",
            "    symmetry (worst):                     0.156  0.664\n",
            "    fractal dimension (worst):            0.055  0.208\n",
            "    ===================================== ====== ======\n",
            "\n",
            "    :Missing Attribute Values: None\n",
            "\n",
            "    :Class Distribution: 212 - Malignant, 357 - Benign\n",
            "\n",
            "    :Creator:  Dr. William H. Wolberg, W. Nick Street, Olvi L. Mangasarian\n",
            "\n",
            "    :Donor: Nick Street\n",
            "\n",
            "    :Date: November, 1995\n",
            "\n",
            "This is a copy of UCI ML Breast Cancer Wisconsin (Diagnostic) datasets.\n",
            "https://goo.gl/U2Uwz2\n",
            "\n",
            "Features are computed from a digitized image of a fine needle\n",
            "aspirate (FNA) of a breast mass.  They describe\n",
            "characteristics of the cell nuclei present in the image.\n",
            "\n",
            "Separating plane described above was obtained using\n",
            "Multisurface Method-Tree (MSM-T) [K. P. Bennett, \"Decision Tree\n",
            "Construction Via Linear Programming.\" Proceedings of the 4th\n",
            "Midwest Artificial Intelligence and Cognitive Science Society,\n",
            "pp. 97-101, 1992], a classification method which uses linear\n",
            "programming to construct a decision tree.  Relevant features\n",
            "were selected using an exhaustive search in the space of 1-4\n",
            "features and 1-3 separating planes.\n",
            "\n",
            "The actual linear program used to obtain the separating plane\n",
            "in the 3-dimensional space is that described in:\n",
            "[K. P. Bennett and O. L. Mangasarian: \"Robust Linear\n",
            "Programming Discrimination of Two Linearly Inseparable Sets\",\n",
            "Optimization Methods and Software 1, 1992, 23-34].\n",
            "\n",
            "This database is also available through the UW CS ftp server:\n",
            "\n",
            "ftp ftp.cs.wisc.edu\n",
            "cd math-prog/cpo-dataset/machine-learn/WDBC/\n",
            "\n",
            ".. topic:: References\n",
            "\n",
            "   - W.N. Street, W.H. Wolberg and O.L. Mangasarian. Nuclear feature extraction \n",
            "     for breast tumor diagnosis. IS&T/SPIE 1993 International Symposium on \n",
            "     Electronic Imaging: Science and Technology, volume 1905, pages 861-870,\n",
            "     San Jose, CA, 1993.\n",
            "   - O.L. Mangasarian, W.N. Street and W.H. Wolberg. Breast cancer diagnosis and \n",
            "     prognosis via linear programming. Operations Research, 43(4), pages 570-577, \n",
            "     July-August 1995.\n",
            "   - W.H. Wolberg, W.N. Street, and O.L. Mangasarian. Machine learning techniques\n",
            "     to diagnose breast cancer from fine-needle aspirates. Cancer Letters 77 (1994) \n",
            "     163-171.\n"
          ]
        }
      ],
      "source": [
        "\n",
        "print(cancer.DESCR) # Print the data set description"
      ]
    },
    {
      "cell_type": "markdown",
      "metadata": {
        "id": "A9Uo5fdYIAD7"
      },
      "source": [
        "The object returned by `load_breast_cancer()` is a scikit-learn Bunch object, which is similar to a dictionary."
      ]
    },
    {
      "cell_type": "code",
      "execution_count": null,
      "metadata": {
        "colab": {
          "base_uri": "https://localhost:8080/"
        },
        "id": "rhQPPC_RIAD7",
        "outputId": "69d68803-86d0-4e6f-9577-0f8554846a15"
      },
      "outputs": [
        {
          "data": {
            "text/plain": [
              "dict_keys(['data', 'target', 'frame', 'target_names', 'DESCR', 'feature_names', 'filename', 'data_module'])"
            ]
          },
          "execution_count": 4,
          "metadata": {},
          "output_type": "execute_result"
        }
      ],
      "source": [
        "cancer.keys()"
      ]
    },
    {
      "cell_type": "markdown",
      "metadata": {
        "id": "NjVeS9rzIAD-"
      },
      "source": [
        "### Question 0 (Example)\n",
        "\n",
        "How many features does the breast cancer dataset have?\n",
        "\n",
        "*You should return an integer.*"
      ]
    },
    {
      "cell_type": "code",
      "execution_count": null,
      "metadata": {
        "colab": {
          "base_uri": "https://localhost:8080/"
        },
        "id": "IyeadcpGgWdx",
        "outputId": "af1299d7-0607-4d00-dd34-c3eb959b246c"
      },
      "outputs": [
        {
          "data": {
            "text/plain": [
              "array(['mean radius', 'mean texture', 'mean perimeter', 'mean area',\n",
              "       'mean smoothness', 'mean compactness', 'mean concavity',\n",
              "       'mean concave points', 'mean symmetry', 'mean fractal dimension',\n",
              "       'radius error', 'texture error', 'perimeter error', 'area error',\n",
              "       'smoothness error', 'compactness error', 'concavity error',\n",
              "       'concave points error', 'symmetry error',\n",
              "       'fractal dimension error', 'worst radius', 'worst texture',\n",
              "       'worst perimeter', 'worst area', 'worst smoothness',\n",
              "       'worst compactness', 'worst concavity', 'worst concave points',\n",
              "       'worst symmetry', 'worst fractal dimension'], dtype='<U23')"
            ]
          },
          "execution_count": 5,
          "metadata": {},
          "output_type": "execute_result"
        }
      ],
      "source": [
        "cancer['feature_names']"
      ]
    },
    {
      "cell_type": "code",
      "execution_count": null,
      "metadata": {
        "id": "XUKF9B-ZIAD_"
      },
      "outputs": [],
      "source": [
        "def answer_zero():\n",
        "  return len(cancer['feature_names'])\n",
        "\n",
        "assert answer_zero() == 30"
      ]
    },
    {
      "cell_type": "markdown",
      "metadata": {
        "id": "doelrn1wIAEC"
      },
      "source": [
        "### Question 1\n",
        "\n",
        "Scikit-learn works with lists, numpy arrays, scipy-sparse matrices, and pandas DataFrames, so converting the dataset to a DataFrame is not necessary for training this model. Using a DataFrame does however help make many things easier such as munging data, so let's practice creating a classifier with a pandas DataFrame. \n",
        "\n",
        "\n",
        "\n",
        "Convert the sklearn.dataset `cancer` to a DataFrame. \n",
        "\n",
        "*This function should return a `(569, 31)` DataFrame with * \n",
        "\n",
        "*columns = *\n",
        "\n",
        "    ['mean radius', 'mean texture', 'mean perimeter', 'mean area',\n",
        "    'mean smoothness', 'mean compactness', 'mean concavity',\n",
        "    'mean concave points', 'mean symmetry', 'mean fractal dimension',\n",
        "    'radius error', 'texture error', 'perimeter error', 'area error',\n",
        "    'smoothness error', 'compactness error', 'concavity error',\n",
        "    'concave points error', 'symmetry error', 'fractal dimension error',\n",
        "    'worst radius', 'worst texture', 'worst perimeter', 'worst area',\n",
        "    'worst smoothness', 'worst compactness', 'worst concavity',\n",
        "    'worst concave points', 'worst symmetry', 'worst fractal dimension',\n",
        "    'target']\n",
        "\n",
        "*and index = *\n",
        "\n",
        "    RangeIndex(start=0, stop=569, step=1)"
      ]
    },
    {
      "cell_type": "code",
      "execution_count": null,
      "metadata": {
        "id": "Nty4vF97IAED"
      },
      "outputs": [],
      "source": [
        "def answer_one():\n",
        "  df=pd.DataFrame(cancer.data,columns =[cancer.feature_names])\n",
        "  df['target']=pd.Series(data=cancer.target,index=df.index)\n",
        "\n",
        "  return df\n",
        "\n",
        "assert answer_one().shape == (569, 31)"
      ]
    },
    {
      "cell_type": "markdown",
      "metadata": {
        "id": "O0XHHFI4IAEF"
      },
      "source": [
        "### Question 2\n",
        "What is the class distribution? (i.e. how many instances of `malignant` (encoded 0) and how many `benign` (encoded 1)?)\n",
        "\n",
        "*Please return a Series named `target` of length 2 with integer values and index =* `['malignant', 'benign']`"
      ]
    },
    {
      "cell_type": "code",
      "execution_count": null,
      "metadata": {
        "id": "14uhblxMIAEG"
      },
      "outputs": [],
      "source": [
        "def answer_two():\n",
        "  target = pd.Series(df['target'].value_counts(ascending=True))\n",
        "  target.index=['malignant','benign']\n",
        "\n",
        "  return target\n",
        "\n",
        "output = answer_two()\n",
        "assert output.malignant == 212\n",
        "assert output.benign == 357"
      ]
    },
    {
      "cell_type": "markdown",
      "metadata": {
        "id": "AxQRhTc1IAEJ"
      },
      "source": [
        "### Question 3\n",
        "Split the DataFrame into `X` (the data) and `y` (the labels).\n",
        "\n",
        "*Please return a tuple of length 2:* `(X, y)`*, where* \n",
        "* `X`*, a pandas DataFrame, has shape* `(569, 30)`\n",
        "* `y`*, a pandas Series, has shape* `(569,)`."
      ]
    },
    {
      "cell_type": "code",
      "execution_count": null,
      "metadata": {
        "id": "NTLT2NBpIAEK"
      },
      "outputs": [],
      "source": [
        "def answer_three():\n",
        "  X=df.iloc[0:,0:30]\n",
        "  y=df['target']\n",
        "\n",
        "  return (X,y)\n",
        "\n",
        "(X,y) = answer_three()\n",
        "assert len((X,y)) == 2\n",
        "assert X.shape == (569, 30) \n",
        "assert y.shape == (569, 1)"
      ]
    },
    {
      "cell_type": "markdown",
      "metadata": {
        "id": "lnPwOO05IAEN"
      },
      "source": [
        "### Question 4\n",
        "Using `train_test_split`, split `X` and `y` into training and test sets `(X_train, X_test, y_train, and y_test)`.\n",
        "*This function should return a tuple of length 4:* `(X_train, X_test, y_train, y_test)`*, where* \n",
        "* `X_train` *has shape* `(426, 30)`\n",
        "* `X_test` *has shape* `(143, 30)`\n",
        "* `y_train` *has shape* `(426,)`\n",
        "* `y_test` *has shape* `(143,)`"
      ]
    },
    {
      "cell_type": "code",
      "execution_count": null,
      "metadata": {
        "id": "Hld9-kBTIAEO"
      },
      "outputs": [],
      "source": [
        "from sklearn.model_selection import train_test_split\n",
        "\n",
        "def answer_four():    \n",
        "  return train_test_split(X,y,train_size=426,test_size=143,random_state=0)\n",
        "\n",
        "X_train, X_test, y_train, y_test = answer_four()\n",
        "assert X_train.shape == (426, 30)\n",
        "assert X_test.shape == (143, 30)\n",
        "assert y_train.shape == (426, 1)\n",
        "assert y_test.shape == (143, 1)"
      ]
    },
    {
      "cell_type": "markdown",
      "metadata": {
        "id": "w6u32qqhIAER"
      },
      "source": [
        "### Question 5\n",
        "Using KNeighborsClassifier, fit a k-nearest neighbors (knn) classifier with `X_train`, `y_train` and using one nearest neighbor (`n_neighbors = 1`).\n",
        "\n",
        "*Please return a * `sklearn.neighbors.classification.KNeighborsClassifier`."
      ]
    },
    {
      "cell_type": "code",
      "execution_count": null,
      "metadata": {
        "colab": {
          "base_uri": "https://localhost:8080/"
        },
        "id": "GUMpZ3eHIAES",
        "outputId": "41d6084e-eef0-45f0-d31d-3e6b9c0eb621"
      },
      "outputs": [
        {
          "name": "stderr",
          "output_type": "stream",
          "text": [
            "/usr/local/lib/python3.7/dist-packages/sklearn/utils/validation.py:1692: FutureWarning: Feature names only support names that are all strings. Got feature names with dtypes: ['tuple']. An error will be raised in 1.2.\n",
            "  FutureWarning,\n",
            "/usr/local/lib/python3.7/dist-packages/sklearn/neighbors/_classification.py:198: DataConversionWarning: A column-vector y was passed when a 1d array was expected. Please change the shape of y to (n_samples,), for example using ravel().\n",
            "  return self._fit(X, y)\n"
          ]
        }
      ],
      "source": [
        "from sklearn.neighbors import KNeighborsClassifier\n",
        "\n",
        "def answer_five():\n",
        "  model = KNeighborsClassifier(n_neighbors = 1)\n",
        "  model.fit(X_train, y_train)\n",
        "  \n",
        "  return model\n",
        "  \n",
        "knn = answer_five()\n",
        "assert type(knn) == KNeighborsClassifier\n",
        "assert knn.n_neighbors == 1"
      ]
    },
    {
      "cell_type": "markdown",
      "metadata": {
        "id": "C3_AObq-IAEV"
      },
      "source": [
        "### Question 6\n",
        "Using your knn classifier, predict the class label using the mean value for each feature.\n",
        "\n",
        "Hint: You can use `cancerdf.mean()[:-1].values.reshape(1, -1)` which gets the mean value for each feature, ignores the target column, and reshapes the data from 1 dimension to 2 (necessary for the precict method of KNeighborsClassifier).\n",
        "\n",
        "*Please return a numpy array either `array([ 0.])` or `array([ 1.])`*"
      ]
    },
    {
      "cell_type": "code",
      "execution_count": null,
      "metadata": {
        "colab": {
          "base_uri": "https://localhost:8080/"
        },
        "id": "88NB0anEIAEV",
        "outputId": "f4032a27-9486-40fe-e060-5e9f101f17d8"
      },
      "outputs": [
        {
          "name": "stderr",
          "output_type": "stream",
          "text": [
            "/usr/local/lib/python3.7/dist-packages/sklearn/utils/validation.py:1692: FutureWarning: Feature names only support names that are all strings. Got feature names with dtypes: ['tuple']. An error will be raised in 1.2.\n",
            "  FutureWarning,\n",
            "/usr/local/lib/python3.7/dist-packages/sklearn/neighbors/_classification.py:198: DataConversionWarning: A column-vector y was passed when a 1d array was expected. Please change the shape of y to (n_samples,), for example using ravel().\n",
            "  return self._fit(X, y)\n"
          ]
        }
      ],
      "source": [
        "def answer_six():\n",
        "  cancerdf = answer_one()\n",
        "  means = cancerdf.mean()[:-1].values.reshape(1, -1)\n",
        "  knn = answer_five()\n",
        "\n",
        "  return knn.predict(means)\n",
        "\n",
        "assert answer_six() == [ 1. ]"
      ]
    },
    {
      "cell_type": "markdown",
      "metadata": {
        "id": "UMvxjtV4IAEY"
      },
      "source": [
        "### Question 7\n",
        "Using your knn classifier, predict the class labels for the test set `X_test`.\n",
        "\n",
        "*Please return a numpy array with shape `(143,)` and values either `0.0` or `1.0`.*"
      ]
    },
    {
      "cell_type": "code",
      "execution_count": null,
      "metadata": {
        "colab": {
          "base_uri": "https://localhost:8080/"
        },
        "id": "hO_if8E1IAEZ",
        "outputId": "3591535b-4517-4ec3-984d-d0a5a22da388"
      },
      "outputs": [
        {
          "name": "stderr",
          "output_type": "stream",
          "text": [
            "/usr/local/lib/python3.7/dist-packages/sklearn/utils/validation.py:1692: FutureWarning: Feature names only support names that are all strings. Got feature names with dtypes: ['tuple']. An error will be raised in 1.2.\n",
            "  FutureWarning,\n",
            "/usr/local/lib/python3.7/dist-packages/sklearn/neighbors/_classification.py:198: DataConversionWarning: A column-vector y was passed when a 1d array was expected. Please change the shape of y to (n_samples,), for example using ravel().\n",
            "  return self._fit(X, y)\n",
            "/usr/local/lib/python3.7/dist-packages/sklearn/utils/validation.py:1692: FutureWarning: Feature names only support names that are all strings. Got feature names with dtypes: ['tuple']. An error will be raised in 1.2.\n",
            "  FutureWarning,\n"
          ]
        }
      ],
      "source": [
        "def answer_seven():\n",
        "  X_train, X_test, y_train, y_test = answer_four()\n",
        "  knn = answer_five()\n",
        "\n",
        "  return knn.predict(X_test)\n",
        "\n",
        "predictions = answer_seven()\n",
        "assert predictions.shape == (143,)\n",
        "assert set(predictions) == {0.0, 1.0}"
      ]
    },
    {
      "cell_type": "markdown",
      "metadata": {
        "id": "ogwjsSkQIAEc"
      },
      "source": [
        "### Question 8\n",
        "Find the score (mean accuracy) of your knn classifier using `X_test` and `y_test`.\n",
        "\n",
        "*Please return a float between 0 and 1*"
      ]
    },
    {
      "cell_type": "code",
      "execution_count": null,
      "metadata": {
        "colab": {
          "base_uri": "https://localhost:8080/"
        },
        "id": "7ID2E2vbIAEi",
        "outputId": "7411bd21-93d0-4389-8376-a063ceef3d44"
      },
      "outputs": [
        {
          "name": "stderr",
          "output_type": "stream",
          "text": [
            "/usr/local/lib/python3.7/dist-packages/sklearn/utils/validation.py:1692: FutureWarning: Feature names only support names that are all strings. Got feature names with dtypes: ['tuple']. An error will be raised in 1.2.\n",
            "  FutureWarning,\n",
            "/usr/local/lib/python3.7/dist-packages/sklearn/neighbors/_classification.py:198: DataConversionWarning: A column-vector y was passed when a 1d array was expected. Please change the shape of y to (n_samples,), for example using ravel().\n",
            "  return self._fit(X, y)\n",
            "/usr/local/lib/python3.7/dist-packages/sklearn/utils/validation.py:1692: FutureWarning: Feature names only support names that are all strings. Got feature names with dtypes: ['tuple']. An error will be raised in 1.2.\n",
            "  FutureWarning,\n",
            "/usr/local/lib/python3.7/dist-packages/sklearn/utils/validation.py:1692: FutureWarning: Feature names only support names that are all strings. Got feature names with dtypes: ['tuple']. An error will be raised in 1.2.\n",
            "  FutureWarning,\n",
            "/usr/local/lib/python3.7/dist-packages/sklearn/neighbors/_classification.py:198: DataConversionWarning: A column-vector y was passed when a 1d array was expected. Please change the shape of y to (n_samples,), for example using ravel().\n",
            "  return self._fit(X, y)\n",
            "/usr/local/lib/python3.7/dist-packages/sklearn/utils/validation.py:1692: FutureWarning: Feature names only support names that are all strings. Got feature names with dtypes: ['tuple']. An error will be raised in 1.2.\n",
            "  FutureWarning,\n"
          ]
        }
      ],
      "source": [
        "def answer_eight():\n",
        "  X_train, X_test, y_train, y_test = answer_four()\n",
        "  knn = answer_five()\n",
        "  return knn.score(X_test, y_test)\n",
        "\n",
        "assert answer_eight() >= 0 and answer_eight() <= 1"
      ]
    },
    {
      "cell_type": "markdown",
      "metadata": {
        "id": "QeQUmxq9IAEk"
      },
      "source": [
        "### Optional plot\n",
        "\n",
        "Try using the plotting function below to visualize the differet predicition scores between training and test sets, as well as malignant and benign cells."
      ]
    },
    {
      "cell_type": "code",
      "execution_count": null,
      "metadata": {
        "id": "YWLDi7cvIAEl"
      },
      "outputs": [],
      "source": [
        "def accuracy_plot():\n",
        "    import matplotlib.pyplot as plt\n",
        "\n",
        "    X_train, X_test, y_train, y_test = answer_four()\n",
        "\n",
        "    # Find the training and testing accuracies by target value (i.e. malignant, benign)\n",
        "    mal_train_X = X_train[y_train==0]\n",
        "    mal_train_y = y_train[y_train==0]\n",
        "    ben_train_X = X_train[y_train==1]\n",
        "    ben_train_y = y_train[y_train==1]\n",
        "\n",
        "    mal_test_X = X_test[y_test==0]\n",
        "    mal_test_y = y_test[y_test==0]\n",
        "    ben_test_X = X_test[y_test==1]\n",
        "    ben_test_y = y_test[y_test==1]\n",
        "\n",
        "    knn = answer_five()\n",
        "\n",
        "    scores = [knn.score(mal_train_X, mal_train_y), knn.score(ben_train_X, ben_train_y), \n",
        "              knn.score(mal_test_X, mal_test_y), knn.score(ben_test_X, ben_test_y)]\n",
        "\n",
        "\n",
        "    plt.figure()\n",
        "\n",
        "    # Plot the scores as a bar chart\n",
        "    bars = plt.bar(np.arange(4), scores, color=['#4c72b0','#4c72b0','#55a868','#55a868'])\n",
        "\n",
        "    # directly label the score onto the bars\n",
        "    for bar in bars:\n",
        "        height = bar.get_height()\n",
        "        plt.gca().text(bar.get_x() + bar.get_width()/2, height*.90, '{0:.{1}f}'.format(height, 2), \n",
        "                     ha='center', color='w', fontsize=11)\n",
        "\n",
        "    # remove all the ticks (both axes), and tick labels on the Y axis\n",
        "    plt.tick_params(top='off', bottom='off', left='off', right='off', labelleft='off', labelbottom='on')\n",
        "\n",
        "    # remove the frame of the chart\n",
        "    for spine in plt.gca().spines.values():\n",
        "        spine.set_visible(False)\n",
        "\n",
        "    plt.xticks([0,1,2,3], ['Malignant\\nTraining', 'Benign\\nTraining', 'Malignant\\nTest', 'Benign\\nTest'], alpha=0.8);\n",
        "    plt.title('Training and Test Accuracies for Malignant and Benign Cells', alpha=0.8)"
      ]
    },
    {
      "cell_type": "code",
      "execution_count": null,
      "metadata": {
        "id": "ZlplNac1IAEm",
        "outputId": "0cfebd33-eda7-45ae-cce8-320adb0884c1"
      },
      "outputs": [
        {
          "data": {
            "application/javascript": "/* Put everything inside the global mpl namespace */\nwindow.mpl = {};\n\n\nmpl.get_websocket_type = function() {\n    if (typeof(WebSocket) !== 'undefined') {\n        return WebSocket;\n    } else if (typeof(MozWebSocket) !== 'undefined') {\n        return MozWebSocket;\n    } else {\n        alert('Your browser does not have WebSocket support.' +\n              'Please try Chrome, Safari or Firefox ≥ 6. ' +\n              'Firefox 4 and 5 are also supported but you ' +\n              'have to enable WebSockets in about:config.');\n    };\n}\n\nmpl.figure = function(figure_id, websocket, ondownload, parent_element) {\n    this.id = figure_id;\n\n    this.ws = websocket;\n\n    this.supports_binary = (this.ws.binaryType != undefined);\n\n    if (!this.supports_binary) {\n        var warnings = document.getElementById(\"mpl-warnings\");\n        if (warnings) {\n            warnings.style.display = 'block';\n            warnings.textContent = (\n                \"This browser does not support binary websocket messages. \" +\n                    \"Performance may be slow.\");\n        }\n    }\n\n    this.imageObj = new Image();\n\n    this.context = undefined;\n    this.message = undefined;\n    this.canvas = undefined;\n    this.rubberband_canvas = undefined;\n    this.rubberband_context = undefined;\n    this.format_dropdown = undefined;\n\n    this.image_mode = 'full';\n\n    this.root = $('<div/>');\n    this._root_extra_style(this.root)\n    this.root.attr('style', 'display: inline-block');\n\n    $(parent_element).append(this.root);\n\n    this._init_header(this);\n    this._init_canvas(this);\n    this._init_toolbar(this);\n\n    var fig = this;\n\n    this.waiting = false;\n\n    this.ws.onopen =  function () {\n            fig.send_message(\"supports_binary\", {value: fig.supports_binary});\n            fig.send_message(\"send_image_mode\", {});\n            if (mpl.ratio != 1) {\n                fig.send_message(\"set_dpi_ratio\", {'dpi_ratio': mpl.ratio});\n            }\n            fig.send_message(\"refresh\", {});\n        }\n\n    this.imageObj.onload = function() {\n            if (fig.image_mode == 'full') {\n                // Full images could contain transparency (where diff images\n                // almost always do), so we need to clear the canvas so that\n                // there is no ghosting.\n                fig.context.clearRect(0, 0, fig.canvas.width, fig.canvas.height);\n            }\n            fig.context.drawImage(fig.imageObj, 0, 0);\n        };\n\n    this.imageObj.onunload = function() {\n        this.ws.close();\n    }\n\n    this.ws.onmessage = this._make_on_message_function(this);\n\n    this.ondownload = ondownload;\n}\n\nmpl.figure.prototype._init_header = function() {\n    var titlebar = $(\n        '<div class=\"ui-dialog-titlebar ui-widget-header ui-corner-all ' +\n        'ui-helper-clearfix\"/>');\n    var titletext = $(\n        '<div class=\"ui-dialog-title\" style=\"width: 100%; ' +\n        'text-align: center; padding: 3px;\"/>');\n    titlebar.append(titletext)\n    this.root.append(titlebar);\n    this.header = titletext[0];\n}\n\n\n\nmpl.figure.prototype._canvas_extra_style = function(canvas_div) {\n\n}\n\n\nmpl.figure.prototype._root_extra_style = function(canvas_div) {\n\n}\n\nmpl.figure.prototype._init_canvas = function() {\n    var fig = this;\n\n    var canvas_div = $('<div/>');\n\n    canvas_div.attr('style', 'position: relative; clear: both; outline: 0');\n\n    function canvas_keyboard_event(event) {\n        return fig.key_event(event, event['data']);\n    }\n\n    canvas_div.keydown('key_press', canvas_keyboard_event);\n    canvas_div.keyup('key_release', canvas_keyboard_event);\n    this.canvas_div = canvas_div\n    this._canvas_extra_style(canvas_div)\n    this.root.append(canvas_div);\n\n    var canvas = $('<canvas/>');\n    canvas.addClass('mpl-canvas');\n    canvas.attr('style', \"left: 0; top: 0; z-index: 0; outline: 0\")\n\n    this.canvas = canvas[0];\n    this.context = canvas[0].getContext(\"2d\");\n\n    var backingStore = this.context.backingStorePixelRatio ||\n\tthis.context.webkitBackingStorePixelRatio ||\n\tthis.context.mozBackingStorePixelRatio ||\n\tthis.context.msBackingStorePixelRatio ||\n\tthis.context.oBackingStorePixelRatio ||\n\tthis.context.backingStorePixelRatio || 1;\n\n    mpl.ratio = (window.devicePixelRatio || 1) / backingStore;\n\n    var rubberband = $('<canvas/>');\n    rubberband.attr('style', \"position: absolute; left: 0; top: 0; z-index: 1;\")\n\n    var pass_mouse_events = true;\n\n    canvas_div.resizable({\n        start: function(event, ui) {\n            pass_mouse_events = false;\n        },\n        resize: function(event, ui) {\n            fig.request_resize(ui.size.width, ui.size.height);\n        },\n        stop: function(event, ui) {\n            pass_mouse_events = true;\n            fig.request_resize(ui.size.width, ui.size.height);\n        },\n    });\n\n    function mouse_event_fn(event) {\n        if (pass_mouse_events)\n            return fig.mouse_event(event, event['data']);\n    }\n\n    rubberband.mousedown('button_press', mouse_event_fn);\n    rubberband.mouseup('button_release', mouse_event_fn);\n    // Throttle sequential mouse events to 1 every 20ms.\n    rubberband.mousemove('motion_notify', mouse_event_fn);\n\n    rubberband.mouseenter('figure_enter', mouse_event_fn);\n    rubberband.mouseleave('figure_leave', mouse_event_fn);\n\n    canvas_div.on(\"wheel\", function (event) {\n        event = event.originalEvent;\n        event['data'] = 'scroll'\n        if (event.deltaY < 0) {\n            event.step = 1;\n        } else {\n            event.step = -1;\n        }\n        mouse_event_fn(event);\n    });\n\n    canvas_div.append(canvas);\n    canvas_div.append(rubberband);\n\n    this.rubberband = rubberband;\n    this.rubberband_canvas = rubberband[0];\n    this.rubberband_context = rubberband[0].getContext(\"2d\");\n    this.rubberband_context.strokeStyle = \"#000000\";\n\n    this._resize_canvas = function(width, height) {\n        // Keep the size of the canvas, canvas container, and rubber band\n        // canvas in synch.\n        canvas_div.css('width', width)\n        canvas_div.css('height', height)\n\n        canvas.attr('width', width * mpl.ratio);\n        canvas.attr('height', height * mpl.ratio);\n        canvas.attr('style', 'width: ' + width + 'px; height: ' + height + 'px;');\n\n        rubberband.attr('width', width);\n        rubberband.attr('height', height);\n    }\n\n    // Set the figure to an initial 600x600px, this will subsequently be updated\n    // upon first draw.\n    this._resize_canvas(600, 600);\n\n    // Disable right mouse context menu.\n    $(this.rubberband_canvas).bind(\"contextmenu\",function(e){\n        return false;\n    });\n\n    function set_focus () {\n        canvas.focus();\n        canvas_div.focus();\n    }\n\n    window.setTimeout(set_focus, 100);\n}\n\nmpl.figure.prototype._init_toolbar = function() {\n    var fig = this;\n\n    var nav_element = $('<div/>')\n    nav_element.attr('style', 'width: 100%');\n    this.root.append(nav_element);\n\n    // Define a callback function for later on.\n    function toolbar_event(event) {\n        return fig.toolbar_button_onclick(event['data']);\n    }\n    function toolbar_mouse_event(event) {\n        return fig.toolbar_button_onmouseover(event['data']);\n    }\n\n    for(var toolbar_ind in mpl.toolbar_items) {\n        var name = mpl.toolbar_items[toolbar_ind][0];\n        var tooltip = mpl.toolbar_items[toolbar_ind][1];\n        var image = mpl.toolbar_items[toolbar_ind][2];\n        var method_name = mpl.toolbar_items[toolbar_ind][3];\n\n        if (!name) {\n            // put a spacer in here.\n            continue;\n        }\n        var button = $('<button/>');\n        button.addClass('ui-button ui-widget ui-state-default ui-corner-all ' +\n                        'ui-button-icon-only');\n        button.attr('role', 'button');\n        button.attr('aria-disabled', 'false');\n        button.click(method_name, toolbar_event);\n        button.mouseover(tooltip, toolbar_mouse_event);\n\n        var icon_img = $('<span/>');\n        icon_img.addClass('ui-button-icon-primary ui-icon');\n        icon_img.addClass(image);\n        icon_img.addClass('ui-corner-all');\n\n        var tooltip_span = $('<span/>');\n        tooltip_span.addClass('ui-button-text');\n        tooltip_span.html(tooltip);\n\n        button.append(icon_img);\n        button.append(tooltip_span);\n\n        nav_element.append(button);\n    }\n\n    var fmt_picker_span = $('<span/>');\n\n    var fmt_picker = $('<select/>');\n    fmt_picker.addClass('mpl-toolbar-option ui-widget ui-widget-content');\n    fmt_picker_span.append(fmt_picker);\n    nav_element.append(fmt_picker_span);\n    this.format_dropdown = fmt_picker[0];\n\n    for (var ind in mpl.extensions) {\n        var fmt = mpl.extensions[ind];\n        var option = $(\n            '<option/>', {selected: fmt === mpl.default_extension}).html(fmt);\n        fmt_picker.append(option)\n    }\n\n    // Add hover states to the ui-buttons\n    $( \".ui-button\" ).hover(\n        function() { $(this).addClass(\"ui-state-hover\");},\n        function() { $(this).removeClass(\"ui-state-hover\");}\n    );\n\n    var status_bar = $('<span class=\"mpl-message\"/>');\n    nav_element.append(status_bar);\n    this.message = status_bar[0];\n}\n\nmpl.figure.prototype.request_resize = function(x_pixels, y_pixels) {\n    // Request matplotlib to resize the figure. Matplotlib will then trigger a resize in the client,\n    // which will in turn request a refresh of the image.\n    this.send_message('resize', {'width': x_pixels, 'height': y_pixels});\n}\n\nmpl.figure.prototype.send_message = function(type, properties) {\n    properties['type'] = type;\n    properties['figure_id'] = this.id;\n    this.ws.send(JSON.stringify(properties));\n}\n\nmpl.figure.prototype.send_draw_message = function() {\n    if (!this.waiting) {\n        this.waiting = true;\n        this.ws.send(JSON.stringify({type: \"draw\", figure_id: this.id}));\n    }\n}\n\n\nmpl.figure.prototype.handle_save = function(fig, msg) {\n    var format_dropdown = fig.format_dropdown;\n    var format = format_dropdown.options[format_dropdown.selectedIndex].value;\n    fig.ondownload(fig, format);\n}\n\n\nmpl.figure.prototype.handle_resize = function(fig, msg) {\n    var size = msg['size'];\n    if (size[0] != fig.canvas.width || size[1] != fig.canvas.height) {\n        fig._resize_canvas(size[0], size[1]);\n        fig.send_message(\"refresh\", {});\n    };\n}\n\nmpl.figure.prototype.handle_rubberband = function(fig, msg) {\n    var x0 = msg['x0'] / mpl.ratio;\n    var y0 = (fig.canvas.height - msg['y0']) / mpl.ratio;\n    var x1 = msg['x1'] / mpl.ratio;\n    var y1 = (fig.canvas.height - msg['y1']) / mpl.ratio;\n    x0 = Math.floor(x0) + 0.5;\n    y0 = Math.floor(y0) + 0.5;\n    x1 = Math.floor(x1) + 0.5;\n    y1 = Math.floor(y1) + 0.5;\n    var min_x = Math.min(x0, x1);\n    var min_y = Math.min(y0, y1);\n    var width = Math.abs(x1 - x0);\n    var height = Math.abs(y1 - y0);\n\n    fig.rubberband_context.clearRect(\n        0, 0, fig.canvas.width, fig.canvas.height);\n\n    fig.rubberband_context.strokeRect(min_x, min_y, width, height);\n}\n\nmpl.figure.prototype.handle_figure_label = function(fig, msg) {\n    // Updates the figure title.\n    fig.header.textContent = msg['label'];\n}\n\nmpl.figure.prototype.handle_cursor = function(fig, msg) {\n    var cursor = msg['cursor'];\n    switch(cursor)\n    {\n    case 0:\n        cursor = 'pointer';\n        break;\n    case 1:\n        cursor = 'default';\n        break;\n    case 2:\n        cursor = 'crosshair';\n        break;\n    case 3:\n        cursor = 'move';\n        break;\n    }\n    fig.rubberband_canvas.style.cursor = cursor;\n}\n\nmpl.figure.prototype.handle_message = function(fig, msg) {\n    fig.message.textContent = msg['message'];\n}\n\nmpl.figure.prototype.handle_draw = function(fig, msg) {\n    // Request the server to send over a new figure.\n    fig.send_draw_message();\n}\n\nmpl.figure.prototype.handle_image_mode = function(fig, msg) {\n    fig.image_mode = msg['mode'];\n}\n\nmpl.figure.prototype.updated_canvas_event = function() {\n    // Called whenever the canvas gets updated.\n    this.send_message(\"ack\", {});\n}\n\n// A function to construct a web socket function for onmessage handling.\n// Called in the figure constructor.\nmpl.figure.prototype._make_on_message_function = function(fig) {\n    return function socket_on_message(evt) {\n        if (evt.data instanceof Blob) {\n            /* FIXME: We get \"Resource interpreted as Image but\n             * transferred with MIME type text/plain:\" errors on\n             * Chrome.  But how to set the MIME type?  It doesn't seem\n             * to be part of the websocket stream */\n            evt.data.type = \"image/png\";\n\n            /* Free the memory for the previous frames */\n            if (fig.imageObj.src) {\n                (window.URL || window.webkitURL).revokeObjectURL(\n                    fig.imageObj.src);\n            }\n\n            fig.imageObj.src = (window.URL || window.webkitURL).createObjectURL(\n                evt.data);\n            fig.updated_canvas_event();\n            fig.waiting = false;\n            return;\n        }\n        else if (typeof evt.data === 'string' && evt.data.slice(0, 21) == \"data:image/png;base64\") {\n            fig.imageObj.src = evt.data;\n            fig.updated_canvas_event();\n            fig.waiting = false;\n            return;\n        }\n\n        var msg = JSON.parse(evt.data);\n        var msg_type = msg['type'];\n\n        // Call the  \"handle_{type}\" callback, which takes\n        // the figure and JSON message as its only arguments.\n        try {\n            var callback = fig[\"handle_\" + msg_type];\n        } catch (e) {\n            console.log(\"No handler for the '\" + msg_type + \"' message type: \", msg);\n            return;\n        }\n\n        if (callback) {\n            try {\n                // console.log(\"Handling '\" + msg_type + \"' message: \", msg);\n                callback(fig, msg);\n            } catch (e) {\n                console.log(\"Exception inside the 'handler_\" + msg_type + \"' callback:\", e, e.stack, msg);\n            }\n        }\n    };\n}\n\n// from http://stackoverflow.com/questions/1114465/getting-mouse-location-in-canvas\nmpl.findpos = function(e) {\n    //this section is from http://www.quirksmode.org/js/events_properties.html\n    var targ;\n    if (!e)\n        e = window.event;\n    if (e.target)\n        targ = e.target;\n    else if (e.srcElement)\n        targ = e.srcElement;\n    if (targ.nodeType == 3) // defeat Safari bug\n        targ = targ.parentNode;\n\n    // jQuery normalizes the pageX and pageY\n    // pageX,Y are the mouse positions relative to the document\n    // offset() returns the position of the element relative to the document\n    var x = e.pageX - $(targ).offset().left;\n    var y = e.pageY - $(targ).offset().top;\n\n    return {\"x\": x, \"y\": y};\n};\n\n/*\n * return a copy of an object with only non-object keys\n * we need this to avoid circular references\n * http://stackoverflow.com/a/24161582/3208463\n */\nfunction simpleKeys (original) {\n  return Object.keys(original).reduce(function (obj, key) {\n    if (typeof original[key] !== 'object')\n        obj[key] = original[key]\n    return obj;\n  }, {});\n}\n\nmpl.figure.prototype.mouse_event = function(event, name) {\n    var canvas_pos = mpl.findpos(event)\n\n    if (name === 'button_press')\n    {\n        this.canvas.focus();\n        this.canvas_div.focus();\n    }\n\n    var x = canvas_pos.x * mpl.ratio;\n    var y = canvas_pos.y * mpl.ratio;\n\n    this.send_message(name, {x: x, y: y, button: event.button,\n                             step: event.step,\n                             guiEvent: simpleKeys(event)});\n\n    /* This prevents the web browser from automatically changing to\n     * the text insertion cursor when the button is pressed.  We want\n     * to control all of the cursor setting manually through the\n     * 'cursor' event from matplotlib */\n    event.preventDefault();\n    return false;\n}\n\nmpl.figure.prototype._key_event_extra = function(event, name) {\n    // Handle any extra behaviour associated with a key event\n}\n\nmpl.figure.prototype.key_event = function(event, name) {\n\n    // Prevent repeat events\n    if (name == 'key_press')\n    {\n        if (event.which === this._key)\n            return;\n        else\n            this._key = event.which;\n    }\n    if (name == 'key_release')\n        this._key = null;\n\n    var value = '';\n    if (event.ctrlKey && event.which != 17)\n        value += \"ctrl+\";\n    if (event.altKey && event.which != 18)\n        value += \"alt+\";\n    if (event.shiftKey && event.which != 16)\n        value += \"shift+\";\n\n    value += 'k';\n    value += event.which.toString();\n\n    this._key_event_extra(event, name);\n\n    this.send_message(name, {key: value,\n                             guiEvent: simpleKeys(event)});\n    return false;\n}\n\nmpl.figure.prototype.toolbar_button_onclick = function(name) {\n    if (name == 'download') {\n        this.handle_save(this, null);\n    } else {\n        this.send_message(\"toolbar_button\", {name: name});\n    }\n};\n\nmpl.figure.prototype.toolbar_button_onmouseover = function(tooltip) {\n    this.message.textContent = tooltip;\n};\nmpl.toolbar_items = [[\"Home\", \"Reset original view\", \"fa fa-home icon-home\", \"home\"], [\"Back\", \"Back to  previous view\", \"fa fa-arrow-left icon-arrow-left\", \"back\"], [\"Forward\", \"Forward to next view\", \"fa fa-arrow-right icon-arrow-right\", \"forward\"], [\"\", \"\", \"\", \"\"], [\"Pan\", \"Pan axes with left mouse, zoom with right\", \"fa fa-arrows icon-move\", \"pan\"], [\"Zoom\", \"Zoom to rectangle\", \"fa fa-square-o icon-check-empty\", \"zoom\"], [\"\", \"\", \"\", \"\"], [\"Download\", \"Download plot\", \"fa fa-floppy-o icon-save\", \"download\"]];\n\nmpl.extensions = [\"eps\", \"jpeg\", \"pdf\", \"png\", \"ps\", \"raw\", \"svg\", \"tif\"];\n\nmpl.default_extension = \"png\";var comm_websocket_adapter = function(comm) {\n    // Create a \"websocket\"-like object which calls the given IPython comm\n    // object with the appropriate methods. Currently this is a non binary\n    // socket, so there is still some room for performance tuning.\n    var ws = {};\n\n    ws.close = function() {\n        comm.close()\n    };\n    ws.send = function(m) {\n        //console.log('sending', m);\n        comm.send(m);\n    };\n    // Register the callback with on_msg.\n    comm.on_msg(function(msg) {\n        //console.log('receiving', msg['content']['data'], msg);\n        // Pass the mpl event to the overriden (by mpl) onmessage function.\n        ws.onmessage(msg['content']['data'])\n    });\n    return ws;\n}\n\nmpl.mpl_figure_comm = function(comm, msg) {\n    // This is the function which gets called when the mpl process\n    // starts-up an IPython Comm through the \"matplotlib\" channel.\n\n    var id = msg.content.data.id;\n    // Get hold of the div created by the display call when the Comm\n    // socket was opened in Python.\n    var element = $(\"#\" + id);\n    var ws_proxy = comm_websocket_adapter(comm)\n\n    function ondownload(figure, format) {\n        window.open(figure.imageObj.src);\n    }\n\n    var fig = new mpl.figure(id, ws_proxy,\n                           ondownload,\n                           element.get(0));\n\n    // Call onopen now - mpl needs it, as it is assuming we've passed it a real\n    // web socket which is closed, not our websocket->open comm proxy.\n    ws_proxy.onopen();\n\n    fig.parent_element = element.get(0);\n    fig.cell_info = mpl.find_output_cell(\"<div id='\" + id + \"'></div>\");\n    if (!fig.cell_info) {\n        console.error(\"Failed to find cell for figure\", id, fig);\n        return;\n    }\n\n    var output_index = fig.cell_info[2]\n    var cell = fig.cell_info[0];\n\n};\n\nmpl.figure.prototype.handle_close = function(fig, msg) {\n    var width = fig.canvas.width/mpl.ratio\n    fig.root.unbind('remove')\n\n    // Update the output cell to use the data from the current canvas.\n    fig.push_to_output();\n    var dataURL = fig.canvas.toDataURL();\n    // Re-enable the keyboard manager in IPython - without this line, in FF,\n    // the notebook keyboard shortcuts fail.\n    IPython.keyboard_manager.enable()\n    $(fig.parent_element).html('<img src=\"' + dataURL + '\" width=\"' + width + '\">');\n    fig.close_ws(fig, msg);\n}\n\nmpl.figure.prototype.close_ws = function(fig, msg){\n    fig.send_message('closing', msg);\n    // fig.ws.close()\n}\n\nmpl.figure.prototype.push_to_output = function(remove_interactive) {\n    // Turn the data on the canvas into data in the output cell.\n    var width = this.canvas.width/mpl.ratio\n    var dataURL = this.canvas.toDataURL();\n    this.cell_info[1]['text/html'] = '<img src=\"' + dataURL + '\" width=\"' + width + '\">';\n}\n\nmpl.figure.prototype.updated_canvas_event = function() {\n    // Tell IPython that the notebook contents must change.\n    IPython.notebook.set_dirty(true);\n    this.send_message(\"ack\", {});\n    var fig = this;\n    // Wait a second, then push the new image to the DOM so\n    // that it is saved nicely (might be nice to debounce this).\n    setTimeout(function () { fig.push_to_output() }, 1000);\n}\n\nmpl.figure.prototype._init_toolbar = function() {\n    var fig = this;\n\n    var nav_element = $('<div/>')\n    nav_element.attr('style', 'width: 100%');\n    this.root.append(nav_element);\n\n    // Define a callback function for later on.\n    function toolbar_event(event) {\n        return fig.toolbar_button_onclick(event['data']);\n    }\n    function toolbar_mouse_event(event) {\n        return fig.toolbar_button_onmouseover(event['data']);\n    }\n\n    for(var toolbar_ind in mpl.toolbar_items){\n        var name = mpl.toolbar_items[toolbar_ind][0];\n        var tooltip = mpl.toolbar_items[toolbar_ind][1];\n        var image = mpl.toolbar_items[toolbar_ind][2];\n        var method_name = mpl.toolbar_items[toolbar_ind][3];\n\n        if (!name) { continue; };\n\n        var button = $('<button class=\"btn btn-default\" href=\"#\" title=\"' + name + '\"><i class=\"fa ' + image + ' fa-lg\"></i></button>');\n        button.click(method_name, toolbar_event);\n        button.mouseover(tooltip, toolbar_mouse_event);\n        nav_element.append(button);\n    }\n\n    // Add the status bar.\n    var status_bar = $('<span class=\"mpl-message\" style=\"text-align:right; float: right;\"/>');\n    nav_element.append(status_bar);\n    this.message = status_bar[0];\n\n    // Add the close button to the window.\n    var buttongrp = $('<div class=\"btn-group inline pull-right\"></div>');\n    var button = $('<button class=\"btn btn-mini btn-primary\" href=\"#\" title=\"Stop Interaction\"><i class=\"fa fa-power-off icon-remove icon-large\"></i></button>');\n    button.click(function (evt) { fig.handle_close(fig, {}); } );\n    button.mouseover('Stop Interaction', toolbar_mouse_event);\n    buttongrp.append(button);\n    var titlebar = this.root.find($('.ui-dialog-titlebar'));\n    titlebar.prepend(buttongrp);\n}\n\nmpl.figure.prototype._root_extra_style = function(el){\n    var fig = this\n    el.on(\"remove\", function(){\n\tfig.close_ws(fig, {});\n    });\n}\n\nmpl.figure.prototype._canvas_extra_style = function(el){\n    // this is important to make the div 'focusable\n    el.attr('tabindex', 0)\n    // reach out to IPython and tell the keyboard manager to turn it's self\n    // off when our div gets focus\n\n    // location in version 3\n    if (IPython.notebook.keyboard_manager) {\n        IPython.notebook.keyboard_manager.register_events(el);\n    }\n    else {\n        // location in version 2\n        IPython.keyboard_manager.register_events(el);\n    }\n\n}\n\nmpl.figure.prototype._key_event_extra = function(event, name) {\n    var manager = IPython.notebook.keyboard_manager;\n    if (!manager)\n        manager = IPython.keyboard_manager;\n\n    // Check for shift+enter\n    if (event.shiftKey && event.which == 13) {\n        this.canvas_div.blur();\n        // select the cell after this one\n        var index = IPython.notebook.find_cell_index(this.cell_info[0]);\n        IPython.notebook.select(index + 1);\n    }\n}\n\nmpl.figure.prototype.handle_save = function(fig, msg) {\n    fig.ondownload(fig, null);\n}\n\n\nmpl.find_output_cell = function(html_output) {\n    // Return the cell and output element which can be found *uniquely* in the notebook.\n    // Note - this is a bit hacky, but it is done because the \"notebook_saving.Notebook\"\n    // IPython event is triggered only after the cells have been serialised, which for\n    // our purposes (turning an active figure into a static one), is too late.\n    var cells = IPython.notebook.get_cells();\n    var ncells = cells.length;\n    for (var i=0; i<ncells; i++) {\n        var cell = cells[i];\n        if (cell.cell_type === 'code'){\n            for (var j=0; j<cell.output_area.outputs.length; j++) {\n                var data = cell.output_area.outputs[j];\n                if (data.data) {\n                    // IPython >= 3 moved mimebundle to data attribute of output\n                    data = data.data;\n                }\n                if (data['text/html'] == html_output) {\n                    return [cell, data, j];\n                }\n            }\n        }\n    }\n}\n\n// Register the function which deals with the matplotlib target/channel.\n// The kernel may be null if the page has been refreshed.\nif (IPython.notebook.kernel != null) {\n    IPython.notebook.kernel.comm_manager.register_target('matplotlib', mpl.mpl_figure_comm);\n}\n",
            "text/plain": [
              "<IPython.core.display.Javascript object>"
            ]
          },
          "metadata": {
            "tags": []
          },
          "output_type": "display_data"
        },
        {
          "data": {
            "text/html": [
              "<img src=\"data:image/png;base64,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\" width=\"640\">"
            ],
            "text/plain": [
              "<IPython.core.display.HTML object>"
            ]
          },
          "metadata": {
            "tags": []
          },
          "output_type": "display_data"
        }
      ],
      "source": [
        "accuracy_plot() "
      ]
    },
    {
      "cell_type": "code",
      "execution_count": null,
      "metadata": {
        "id": "R099QTcoIAEp"
      },
      "outputs": [],
      "source": []
    }
  ],
  "metadata": {
    "accelerator": "GPU",
    "colab": {
      "collapsed_sections": [],
      "name": "ML - hands-on 1.ipynb",
      "provenance": []
    },
    "kernelspec": {
      "display_name": "Python 3",
      "language": "python",
      "name": "python3"
    },
    "language_info": {
      "codemirror_mode": {
        "name": "ipython",
        "version": 3
      },
      "file_extension": ".py",
      "mimetype": "text/x-python",
      "name": "python",
      "nbconvert_exporter": "python",
      "pygments_lexer": "ipython3",
      "version": "3.8.10"
    }
  },
  "nbformat": 4,
  "nbformat_minor": 0
}
